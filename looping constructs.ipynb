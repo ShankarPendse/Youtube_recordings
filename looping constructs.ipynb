{
 "cells": [
  {
   "cell_type": "markdown",
   "metadata": {},
   "source": [
    "# For and while loop"
   ]
  },
  {
   "cell_type": "markdown",
   "metadata": {},
   "source": [
    "for element in sequence:\n",
    "    \n",
    "    execute some code here\n",
    "\n",
    "-------------------------------------------\n",
    "\n",
    "for element in sequence:\n",
    "    \n",
    "    execute some code here\n",
    "\n",
    "else:\n",
    "    \n",
    "    execute some code here\n",
    "    \n",
    "-------------------------------------------\n",
    "\n",
    "while condition:\n",
    "    \n",
    "    execute some code here\n",
    "    \n",
    "-------------------------------------------\n",
    "\n",
    "while condition:\n",
    "\n",
    "    execute some code here\n",
    "    \n",
    "else:\n",
    "\n",
    "    execute some code here"
   ]
  },
  {
   "cell_type": "code",
   "execution_count": 16,
   "metadata": {},
   "outputs": [],
   "source": [
    "list1 = [1,2,3,4,5,6]"
   ]
  },
  {
   "cell_type": "code",
   "execution_count": 8,
   "metadata": {},
   "outputs": [
    {
     "name": "stdout",
     "output_type": "stream",
     "text": [
      "1\n",
      "2\n",
      "3\n",
      "4\n",
      "5\n",
      "6\n"
     ]
    }
   ],
   "source": [
    "for element in list1:\n",
    "    print(element)"
   ]
  },
  {
   "cell_type": "code",
   "execution_count": 9,
   "metadata": {},
   "outputs": [
    {
     "name": "stdout",
     "output_type": "stream",
     "text": [
      "2\n",
      "4\n",
      "6\n",
      "8\n",
      "10\n",
      "12\n"
     ]
    }
   ],
   "source": [
    "for element in list1:\n",
    "    print(element*2)"
   ]
  },
  {
   "cell_type": "code",
   "execution_count": 10,
   "metadata": {},
   "outputs": [
    {
     "name": "stdout",
     "output_type": "stream",
     "text": [
      "0.5\n",
      "1.0\n",
      "1.5\n",
      "2.0\n",
      "2.5\n",
      "3.0\n",
      "done\n"
     ]
    }
   ],
   "source": [
    "for element in list1:\n",
    "    print(element/2)\n",
    "else:\n",
    "    print(\"done\")"
   ]
  },
  {
   "cell_type": "code",
   "execution_count": 11,
   "metadata": {},
   "outputs": [
    {
     "data": {
      "text/plain": [
       "[1, 2, 3, 4, 5, 6]"
      ]
     },
     "execution_count": 11,
     "metadata": {},
     "output_type": "execute_result"
    }
   ],
   "source": [
    "list1"
   ]
  },
  {
   "cell_type": "code",
   "execution_count": 12,
   "metadata": {},
   "outputs": [
    {
     "name": "stdout",
     "output_type": "stream",
     "text": [
      "0.5\n"
     ]
    }
   ],
   "source": [
    "for element in list1:\n",
    "    print(element/2)\n",
    "    break\n",
    "else:\n",
    "    print(\"done\")"
   ]
  },
  {
   "cell_type": "code",
   "execution_count": 13,
   "metadata": {},
   "outputs": [
    {
     "data": {
      "text/plain": [
       "[1, 2, 3, 4, 5, 6]"
      ]
     },
     "execution_count": 13,
     "metadata": {},
     "output_type": "execute_result"
    }
   ],
   "source": [
    "list1"
   ]
  },
  {
   "cell_type": "code",
   "execution_count": 14,
   "metadata": {},
   "outputs": [
    {
     "data": {
      "text/plain": [
       "6"
      ]
     },
     "execution_count": 14,
     "metadata": {},
     "output_type": "execute_result"
    }
   ],
   "source": [
    "len(list1)"
   ]
  },
  {
   "cell_type": "markdown",
   "metadata": {},
   "source": [
    "# all numbers except 0 will be treated as True (boolean) and 0 alone will be treated as False"
   ]
  },
  {
   "cell_type": "code",
   "execution_count": 15,
   "metadata": {},
   "outputs": [
    {
     "name": "stdout",
     "output_type": "stream",
     "text": [
      "popped item from list is:  6\n",
      "len of list1:  5\n",
      "popped item from list is:  5\n",
      "len of list1:  4\n",
      "popped item from list is:  4\n",
      "len of list1:  3\n",
      "popped item from list is:  3\n",
      "len of list1:  2\n",
      "popped item from list is:  2\n",
      "len of list1:  1\n",
      "popped item from list is:  1\n",
      "len of list1:  0\n",
      "inside else part 0\n"
     ]
    }
   ],
   "source": [
    "while len(list1):\n",
    "    print(\"popped item from list is: \", list1.pop())\n",
    "    print(\"len of list1: \", len(list1))\n",
    "else:\n",
    "    print(\"inside else part\", len(list1))"
   ]
  },
  {
   "cell_type": "code",
   "execution_count": 17,
   "metadata": {},
   "outputs": [
    {
     "name": "stdout",
     "output_type": "stream",
     "text": [
      "popped item from list is:  6\n",
      "len of list1:  5\n",
      "popped item from list is:  5\n",
      "len of list1:  4\n",
      "popped item from list is:  4\n",
      "len of list1:  3\n",
      "popped item from list is:  3\n",
      "len of list1:  2\n",
      "popped item from list is:  2\n",
      "len of list1:  1\n",
      "popped item from list is:  1\n",
      "len of list1:  0\n"
     ]
    }
   ],
   "source": [
    "while len(list1):\n",
    "    print(\"popped item from list is: \", list1.pop())\n",
    "    print(\"len of list1: \", len(list1))"
   ]
  },
  {
   "cell_type": "code",
   "execution_count": 6,
   "metadata": {},
   "outputs": [
    {
     "name": "stdout",
     "output_type": "stream",
     "text": [
      "9\n",
      "18\n",
      "27\n",
      "36\n",
      "45\n",
      "54\n",
      "63\n",
      "72\n",
      "81\n",
      "90\n",
      "end of multiplication table for number  9\n"
     ]
    }
   ],
   "source": [
    "# 9's multiplication table\n",
    "\n",
    "i = 1\n",
    "j = 9\n",
    "\n",
    "while i<=10:\n",
    "    print(j*i)\n",
    "    i = i+1\n",
    "else:\n",
    "    print(\"end of multiplication table for number \", j)"
   ]
  },
  {
   "cell_type": "code",
   "execution_count": null,
   "metadata": {},
   "outputs": [],
   "source": []
  }
 ],
 "metadata": {
  "kernelspec": {
   "display_name": "Python 3",
   "language": "python",
   "name": "python3"
  },
  "language_info": {
   "codemirror_mode": {
    "name": "ipython",
    "version": 3
   },
   "file_extension": ".py",
   "mimetype": "text/x-python",
   "name": "python",
   "nbconvert_exporter": "python",
   "pygments_lexer": "ipython3",
   "version": "3.7.8"
  }
 },
 "nbformat": 4,
 "nbformat_minor": 4
}
